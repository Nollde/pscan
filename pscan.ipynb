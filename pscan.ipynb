{
 "cells": [
  {
   "cell_type": "code",
   "execution_count": 7,
   "id": "4f6a45f0",
   "metadata": {},
   "outputs": [],
   "source": [
    "from pscan import PScan"
   ]
  },
  {
   "cell_type": "code",
   "execution_count": null,
   "id": "bb47cccc",
   "metadata": {},
   "outputs": [],
   "source": [
    "pscan = PScan(\n",
    "    regex=(\n",
    "        r\"param0_(?P<param0>.+)\"\n",
    "        r\"/param1_(?P<param1>\\d+)\"\n",
    "        r\"/file\\.png\"\n",
    "    ),\n",
    "    base_path=\"demo/\",\n",
    ")"
   ]
  },
  {
   "cell_type": "code",
   "execution_count": null,
   "id": "c0a418f4",
   "metadata": {},
   "outputs": [
    {
     "data": {
      "application/vnd.jupyter.widget-view+json": {
       "model_id": "3d5f703a952b41a98ada3ae1632f5c9d",
       "version_major": 2,
       "version_minor": 0
      },
      "text/plain": [
       "interactive(children=(ToggleButtons(description='param0', options=('a', 'b', 'c'), value='a'), ToggleButtons(d…"
      ]
     },
     "metadata": {},
     "output_type": "display_data"
    }
   ],
   "source": [
    "pscan.run()"
   ]
  },
  {
   "cell_type": "code",
   "execution_count": null,
   "id": "9e3f169c",
   "metadata": {},
   "outputs": [],
   "source": []
  }
 ],
 "metadata": {
  "kernelspec": {
   "display_name": "pscan",
   "language": "python",
   "name": "python3"
  },
  "language_info": {
   "codemirror_mode": {
    "name": "ipython",
    "version": 3
   },
   "file_extension": ".py",
   "mimetype": "text/x-python",
   "name": "python",
   "nbconvert_exporter": "python",
   "pygments_lexer": "ipython3",
   "version": "3.13.7"
  }
 },
 "nbformat": 4,
 "nbformat_minor": 5
}
